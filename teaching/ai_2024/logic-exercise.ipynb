{
 "cells": [
  {
   "cell_type": "markdown",
   "metadata": {},
   "source": [
    "## Question 1\n",
    "\n",
    "Which of the following are correct? Use the code from logic notebook to answer.<br>\n",
    "a. False |= True. <br>\n",
    "b. True |= False.<br>\n",
    "c. (A ∧ B) |= (A <=> B).<br>\n",
    "d. A <=> B |= A ∨ B.<br>\n",
    "e. A <=> B |= ¬A ∨ B.<br>\n",
    "f. (A ∧ B) ==> C |= (A ==> C) ∨ (B ==> C).<br>\n",
    "g. (C ∨ (¬A ∧ ¬B)) ≡ ((A ==> C) ∧ (B ==> C)).<br>\n",
    "h. (A ∨ B) ∧ (¬C ∨ ¬D ∨ E) |= (A ∨ B).<br>\n",
    "i. (A ∨ B) ∧ (¬C ∨ ¬D ∨ E) |= (A ∨ B) ∧ (¬D ∨ E).<br>\n",
    "j. (A ∨ B) ∧ ¬(A ==> B) is satisfiable.<br>\n",
    "k. (A <=> B) ∧ (¬A ∨ B) is satisfiable.<br>"
   ]
  },
  {
   "cell_type": "code",
   "execution_count": 3,
   "metadata": {},
   "outputs": [
    {
     "name": "stdout",
     "output_type": "stream",
     "text": [
      "(A ∧ B) |= (A ⇔ B)\n",
      "True\n"
     ]
    }
   ],
   "source": [
    "#Example solution\n",
    "from logic import expr, tt_entails\n",
    "print(\"(A ∧ B) |= (A ⇔ B)\")\n",
    "print(tt_entails(expr('(A & B)'), expr('(A <=> B)')))"
   ]
  },
  {
   "cell_type": "markdown",
   "metadata": {},
   "source": [
    "## Question 2\n",
    "\n",
    "Convert the following set of sentences to clausal form.<br>\n",
    "S1: A <=> (B ∨ E).<br>\n",
    "S2: E ==> D.<br>\n",
    "S3: C ∧ F ==> ¬B.<br>\n",
    "S4: E ==> B.<br>\n",
    "S5: B ==> F.<br>\n",
    "S6: B ==> C<br>"
   ]
  },
  {
   "cell_type": "code",
   "execution_count": 5,
   "metadata": {},
   "outputs": [
    {
     "data": {
      "text/plain": [
       "((A | ~B) & (B | ~A))"
      ]
     },
     "execution_count": 5,
     "metadata": {},
     "output_type": "execute_result"
    }
   ],
   "source": [
    "#Example\n",
    "from logic import to_cnf\n",
    "A, B, C, D = expr('A, B, C, D')\n",
    "to_cnf(A |'<=>'| B)"
   ]
  }
 ],
 "metadata": {
  "kernelspec": {
   "display_name": "Python 3 (ipykernel)",
   "language": "python",
   "name": "python3"
  },
  "language_info": {
   "codemirror_mode": {
    "name": "ipython",
    "version": 3
   },
   "file_extension": ".py",
   "mimetype": "text/x-python",
   "name": "python",
   "nbconvert_exporter": "python",
   "pygments_lexer": "ipython3",
   "version": "3.10.12"
  }
 },
 "nbformat": 4,
 "nbformat_minor": 4
}
