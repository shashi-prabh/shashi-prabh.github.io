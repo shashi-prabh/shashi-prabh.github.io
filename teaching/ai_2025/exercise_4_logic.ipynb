{
 "cells": [
  {
   "cell_type": "code",
   "execution_count": 2,
   "metadata": {},
   "outputs": [],
   "source": [
    "from utils import *\n",
    "from logic import *\n",
    "from notebook import psource"
   ]
  },
  {
   "cell_type": "markdown",
   "metadata": {},
   "source": [
    "## Operators for Constructing Logical Sentences\n",
    "\n",
    "Here is a table of the operators that can be used to form sentences. Note that we have a problem: we want to use Python operators to make sentences, so that our programs (and our interactive sessions like the one here) will show simple code. But Python does not allow implication arrows as operators, so for now we have to use a more verbose notation that Python does allow: `|'==>'|` instead of just `==>`. Alternately, you can always use the more verbose `Expr` constructor forms:\n",
    "\n",
    "| Operation                | Book | Python Infix Input | Python Output | Python `Expr` Input\n",
    "|--------------------------|----------------------|-------------------------|---|---|\n",
    "| Negation                 | &not; P      | `~P`                       | `~P` | `Expr('~', P)`\n",
    "| And                      | P &and; Q       | `P & Q`                     | `P & Q` | `Expr('&', P, Q)`\n",
    "| Or                       | P &or; Q | `P`<tt> &#124; </tt>`Q`| `P`<tt> &#124; </tt>`Q` | `Expr('`&#124;`', P, Q)`\n",
    "| Inequality (Xor)         | P &ne; Q     | `P ^ Q`                | `P ^ Q`  | `Expr('^', P, Q)`\n",
    "| Implication                  | P &rarr; Q    | `P` <tt>&#124;</tt>`'==>'`<tt>&#124;</tt> `Q`   | `P ==> Q` | `Expr('==>', P, Q)`\n",
    "| Reverse Implication      | Q &larr; P     | `Q` <tt>&#124;</tt>`'<=='`<tt>&#124;</tt> `P`  |`Q <== P` | `Expr('<==', Q, P)`\n",
    "| Equivalence            | P &harr; Q   | `P` <tt>&#124;</tt>`'<=>'`<tt>&#124;</tt> `Q`   |`P <=> Q` | `Expr('<=>', P, Q)`\n",
    "\n",
    "Here's an example of defining a sentence with an implication arrow:"
   ]
  },
  {
   "cell_type": "code",
   "execution_count": 3,
   "metadata": {},
   "outputs": [
    {
     "data": {
      "text/plain": [
       "(~(P & Q) ==> (~P | ~Q))"
      ]
     },
     "execution_count": 3,
     "metadata": {},
     "output_type": "execute_result"
    }
   ],
   "source": [
    "~(P & Q)  |'==>'|  (~P | ~Q)"
   ]
  },
  {
   "cell_type": "markdown",
   "metadata": {},
   "source": [
    "If the `|'==>'|` notation looks ugly to you, you can use the function `expr` instead:"
   ]
  },
  {
   "cell_type": "code",
   "execution_count": 4,
   "metadata": {},
   "outputs": [
    {
     "data": {
      "text/plain": [
       "(~(P & Q) ==> (~P | ~Q))"
      ]
     },
     "execution_count": 4,
     "metadata": {},
     "output_type": "execute_result"
    }
   ],
   "source": [
    "expr('~(P & Q)  ==>  (~P | ~Q)')"
   ]
  },
  {
   "cell_type": "markdown",
   "metadata": {},
   "source": [
    "## Question 1\n",
    "\n",
    "Which of the following are correct? Use the code from logic notebook to answer.<br>\n",
    "a. False |= True. <br>\n",
    "b. True |= False.<br>\n",
    "c. (A ∧ B) |= (A <=> B).<br>\n",
    "d. A <=> B |= A ∨ B.<br>\n",
    "e. A <=> B |= ¬A ∨ B.<br>\n",
    "f. (A ∧ B) ==> C |= (A ==> C) ∨ (B ==> C).<br>\n",
    "g. (C ∨ (¬A ∧ ¬B)) ≡ ((A ==> C) ∧ (B ==> C)).<br>\n",
    "h. (A ∨ B) ∧ (¬C ∨ ¬D ∨ E) |= (A ∨ B).<br>\n",
    "i. (A ∨ B) ∧ (¬C ∨ ¬D ∨ E) |= (A ∨ B) ∧ (¬D ∨ E).<br>\n",
    "j. (A ∨ B) ∧ ¬(A ==> B) is satisfiable.<br>\n",
    "k. (A <=> B) ∧ (¬A ∨ B) is satisfiable.<br>"
   ]
  },
  {
   "cell_type": "code",
   "execution_count": 3,
   "metadata": {},
   "outputs": [
    {
     "name": "stdout",
     "output_type": "stream",
     "text": [
      "(A ∧ B) |= (A ⇔ B)\n",
      "True\n"
     ]
    }
   ],
   "source": [
    "#Example solution\n",
    "from logic import expr, tt_entails\n",
    "print(\"(A ∧ B) |= (A ⇔ B)\")\n",
    "print(tt_entails(expr('(A & B)'), expr('(A <=> B)')))"
   ]
  },
  {
   "cell_type": "code",
   "execution_count": null,
   "metadata": {},
   "outputs": [],
   "source": [
    "# Add your code here"
   ]
  },
  {
   "cell_type": "markdown",
   "metadata": {},
   "source": [
    "## Question 2\n",
    "\n",
    "Convert the following set of sentences to clausal form.<br>\n",
    "S1: A <=> (B ∨ E).<br>\n",
    "S2: E ==> D.<br>\n",
    "S3: C ∧ F ==> ¬B.<br>\n",
    "S4: E ==> B.<br>\n",
    "S5: B ==> F.<br>\n",
    "S6: B ==> C<br>"
   ]
  },
  {
   "cell_type": "code",
   "execution_count": 5,
   "metadata": {},
   "outputs": [
    {
     "data": {
      "text/plain": [
       "((A | ~B) & (B | ~A))"
      ]
     },
     "execution_count": 5,
     "metadata": {},
     "output_type": "execute_result"
    }
   ],
   "source": [
    "#Example\n",
    "from logic import to_cnf\n",
    "A, B, C, D = expr('A, B, C, D')\n",
    "to_cnf(A |'<=>'| B)"
   ]
  },
  {
   "cell_type": "code",
   "execution_count": null,
   "metadata": {},
   "outputs": [],
   "source": [
    "# Add your code here"
   ]
  }
 ],
 "metadata": {
  "kernelspec": {
   "display_name": "Python 3",
   "language": "python",
   "name": "python3"
  },
  "language_info": {
   "codemirror_mode": {
    "name": "ipython",
    "version": 3
   },
   "file_extension": ".py",
   "mimetype": "text/x-python",
   "name": "python",
   "nbconvert_exporter": "python",
   "pygments_lexer": "ipython3",
   "version": "3.11.0"
  }
 },
 "nbformat": 4,
 "nbformat_minor": 4
}
